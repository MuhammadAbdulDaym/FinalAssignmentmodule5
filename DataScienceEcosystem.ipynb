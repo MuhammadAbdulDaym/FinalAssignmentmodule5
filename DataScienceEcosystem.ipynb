{
 "cells": [
  {
   "cell_type": "markdown",
   "id": "a4116639-b6bb-4e14-95f5-dba91e5e0b7c",
   "metadata": {},
   "source": [
    "# Data Science Tools and Ecosystem"
   ]
  },
  {
   "cell_type": "markdown",
   "id": "73f17ad4-26a9-491a-8795-351d75e272fe",
   "metadata": {},
   "source": [
    "In this notebook, Data Science Tools and Ecosystem are summarized\n",
    "\n",
    "**Objectives:**  \n",
    "\n",
    "- List popular languages for Data Science  \n",
    "- Identify popular open-source tools used by Data Scientists  \n",
    "- Describe the role of Data Science in real-world scenarios  \n",
    "- Understand common development environments for Data Science  \n",
    "- Explore basic Markdown formatting  \n"
   ]
  },
  {
   "cell_type": "markdown",
   "id": "28f0fd8e-b1e7-4713-b12e-6c224bdd07c8",
   "metadata": {},
   "source": [
    "Some of the popular languages that Data Scientists use are:\n",
    "\n",
    "1. R  \n",
    "2. Python  \n",
    "3. SQL\n",
    "\n",
    "Some of the commonly used libraries used by Data Scientists include:\n",
    "\n",
    "1. pandas\n",
    "2. numpy  \n",
    "3. tensorflow\n"
   ]
  },
  {
   "cell_type": "markdown",
   "id": "027e565e-c230-492d-9c6b-b4daa581d0b9",
   "metadata": {},
   "source": [
    "| Data Science Tools      |\n",
    "|-------------------------|\n",
    "| Jupyter Notebook        |\n",
    "| RStudio                 |\n",
    "| VS Code                 |\n"
   ]
  },
  {
   "cell_type": "markdown",
   "id": "f621b0ba-69de-4e66-8c5d-75194f57cf4c",
   "metadata": {},
   "source": [
    "### Below are a few examples of evaluating arithmetic expressions in Python"
   ]
  },
  {
   "cell_type": "code",
   "execution_count": 2,
   "id": "14434c3c-7d54-498a-bca7-615e4c001951",
   "metadata": {},
   "outputs": [
    {
     "data": {
      "text/plain": [
       "17"
      ]
     },
     "execution_count": 2,
     "metadata": {},
     "output_type": "execute_result"
    }
   ],
   "source": [
    "# This a simple arithmetic expression to mutiply then add integers.\n",
    "(3*4)+5"
   ]
  },
  {
   "cell_type": "code",
   "execution_count": 4,
   "id": "475d4db8-f2dc-4647-bd8f-d1f10e022a62",
   "metadata": {},
   "outputs": [
    {
     "name": "stdout",
     "output_type": "stream",
     "text": [
      "8.333333333333334\n"
     ]
    }
   ],
   "source": [
    "# This will convert 200 minutes to hours by diving by 60\n",
    "calculatedhours = 200 / 24\n",
    "print(calculatedhours)"
   ]
  },
  {
   "cell_type": "markdown",
   "id": "86de4452-3719-48a9-8d92-611cbc49def6",
   "metadata": {},
   "source": [
    "## Author\n",
    "\n",
    "Muhammad Abdul Daym \n"
   ]
  },
  {
   "cell_type": "code",
   "execution_count": null,
   "id": "7851b553-5906-4eb8-a365-7399302c0eef",
   "metadata": {},
   "outputs": [],
   "source": []
  }
 ],
 "metadata": {
  "kernelspec": {
   "display_name": "Python [conda env:base] *",
   "language": "python",
   "name": "conda-base-py"
  },
  "language_info": {
   "codemirror_mode": {
    "name": "ipython",
    "version": 3
   },
   "file_extension": ".py",
   "mimetype": "text/x-python",
   "name": "python",
   "nbconvert_exporter": "python",
   "pygments_lexer": "ipython3",
   "version": "3.12.7"
  }
 },
 "nbformat": 4,
 "nbformat_minor": 5
}
